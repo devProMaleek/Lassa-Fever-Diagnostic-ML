{
 "cells": [
  {
   "cell_type": "markdown",
   "metadata": {
    "id": "0V-SxXllaQHj"
   },
   "source": [
    "# Import Libraries"
   ]
  },
  {
   "cell_type": "code",
   "execution_count": 3,
   "metadata": {
    "id": "EjO1xE0faOqL"
   },
   "outputs": [],
   "source": [
    "import pandas as pd\n",
    "import numpy as np\n",
    "\n",
    "# Data Visualization Library \n",
    "import matplotlib\n",
    "import matplotlib.pyplot as plt\n",
    "import seaborn as sns\n",
    "\n",
    "sns.set(context='notebook', style='darkgrid', palette='colorblind', font='sans-serif', font_scale=1, rc=None)\n",
    "matplotlib.rcParams['figure.figsize'] =[8,8]\n",
    "matplotlib.rcParams.update({'font.size': 15})\n",
    "matplotlib.rcParams['font.family'] = 'sans-serif'"
   ]
  },
  {
   "cell_type": "markdown",
   "metadata": {
    "id": "mX3EBPt1aG3v"
   },
   "source": [
    "# Data Preparation \n"
   ]
  },
  {
   "cell_type": "code",
   "execution_count": 7,
   "metadata": {
    "colab": {
     "base_uri": "https://localhost:8080/"
    },
    "id": "e_Y37SyrcuN2",
    "outputId": "93f20501-ce65-41f8-8958-2478eeb59bef"
   },
   "outputs": [
    {
     "name": "stdout",
     "output_type": "stream",
     "text": [
      "Collecting dataprep\n",
      "  Using cached dataprep-0.4.3-py3-none-any.whl (9.5 MB)\n",
      "Collecting jsonpath-ng<2.0,>=1.5\n",
      "  Using cached jsonpath_ng-1.5.3-py3-none-any.whl (29 kB)\n",
      "Requirement already satisfied: regex<2022.0.0,>=2021.8.3 in c:\\users\\devpromaleek\\appdata\\local\\programs\\python\\python39\\lib\\site-packages (from dataprep) (2021.11.10)\n",
      "Collecting pydantic<2.0,>=1.6\n",
      "  Using cached pydantic-1.9.1-cp39-cp39-win_amd64.whl (2.0 MB)\n",
      "Requirement already satisfied: jinja2<4,>=3 in c:\\users\\devpromaleek\\appdata\\local\\programs\\python\\python39\\lib\\site-packages (from dataprep) (3.0.3)\n",
      "Collecting python-Levenshtein<0.13.0,>=0.12.2\n",
      "  Using cached python-Levenshtein-0.12.2.tar.gz (50 kB)\n",
      "  Preparing metadata (setup.py): started\n",
      "  Preparing metadata (setup.py): finished with status 'done'\n",
      "Requirement already satisfied: tqdm<5.0,>=4.48 in c:\\users\\devpromaleek\\appdata\\local\\programs\\python\\python39\\lib\\site-packages (from dataprep) (4.64.0)\n",
      "Collecting aiohttp<4.0,>=3.6\n",
      "  Using cached aiohttp-3.8.1-cp39-cp39-win_amd64.whl (554 kB)\n",
      "Collecting sqlalchemy<2.0.0,>=1.4.32\n",
      "  Using cached SQLAlchemy-1.4.37-cp39-cp39-win_amd64.whl (1.6 MB)\n",
      "Requirement already satisfied: python-crfsuite<0.10.0,>=0.9.7 in c:\\users\\devpromaleek\\appdata\\local\\programs\\python\\python39\\lib\\site-packages (from dataprep) (0.9.8)\n",
      "Collecting varname<0.9.0,>=0.8.1\n",
      "  Using cached varname-0.8.3-py3-none-any.whl (21 kB)\n",
      "Collecting flask<3,>=2\n",
      "  Using cached Flask-2.1.2-py3-none-any.whl (95 kB)\n",
      "Collecting numpy<2.0,>=1.21\n",
      "  Using cached numpy-1.22.4-cp39-cp39-win_amd64.whl (14.7 MB)\n",
      "Collecting wordcloud<2.0,>=1.8\n",
      "  Using cached wordcloud-1.8.1.tar.gz (220 kB)\n",
      "  Preparing metadata (setup.py): started\n",
      "  Preparing metadata (setup.py): finished with status 'done'\n",
      "Collecting pystache<0.7.0,>=0.6.0\n",
      "  Using cached pystache-0.6.0-py3-none-any.whl\n",
      "Requirement already satisfied: scipy<=1.7.1 in c:\\users\\devpromaleek\\appdata\\local\\programs\\python\\python39\\lib\\site-packages (from dataprep) (1.7.1)\n",
      "Collecting nltk<4.0.0,>=3.6.7\n",
      "  Using cached nltk-3.7-py3-none-any.whl (1.5 MB)\n",
      "Requirement already satisfied: ipywidgets<8.0,>=7.5 in c:\\users\\devpromaleek\\appdata\\local\\programs\\python\\python39\\lib\\site-packages (from dataprep) (7.7.0)\n",
      "Requirement already satisfied: metaphone<0.7,>=0.6 in c:\\users\\devpromaleek\\appdata\\local\\programs\\python\\python39\\lib\\site-packages (from dataprep) (0.6)\n",
      "Requirement already satisfied: python-stdnum<2.0,>=1.16 in c:\\users\\devpromaleek\\appdata\\local\\programs\\python\\python39\\lib\\site-packages (from dataprep) (1.17)\n",
      "Requirement already satisfied: pandas<2.0,>=1.1 in c:\\users\\devpromaleek\\appdata\\local\\programs\\python\\python39\\lib\\site-packages (from dataprep) (1.3.1)\n",
      "Collecting bokeh<3,>=2\n",
      "  Using cached bokeh-2.4.3-py3-none-any.whl (18.5 MB)\n",
      "Collecting dask[array,dataframe,delayed]<2022.0,>=2021.11\n",
      "  Using cached dask-2021.12.0-py3-none-any.whl (1.0 MB)\n",
      "Collecting flask_cors<4.0.0,>=3.0.10\n",
      "  Using cached Flask_Cors-3.0.10-py2.py3-none-any.whl (14 kB)\n",
      "Collecting aiosignal>=1.1.2\n",
      "  Using cached aiosignal-1.2.0-py3-none-any.whl (8.2 kB)\n",
      "Collecting async-timeout<5.0,>=4.0.0a3\n",
      "  Using cached async_timeout-4.0.2-py3-none-any.whl (5.8 kB)\n",
      "Collecting frozenlist>=1.1.1\n",
      "  Using cached frozenlist-1.3.0-cp39-cp39-win_amd64.whl (33 kB)\n",
      "Requirement already satisfied: attrs>=17.3.0 in c:\\users\\devpromaleek\\appdata\\local\\programs\\python\\python39\\lib\\site-packages (from aiohttp<4.0,>=3.6->dataprep) (21.2.0)\n",
      "Collecting yarl<2.0,>=1.0\n",
      "  Using cached yarl-1.7.2-cp39-cp39-win_amd64.whl (122 kB)\n",
      "Collecting multidict<7.0,>=4.5\n",
      "  Using cached multidict-6.0.2-cp39-cp39-win_amd64.whl (28 kB)\n",
      "Requirement already satisfied: charset-normalizer<3.0,>=2.0 in c:\\users\\devpromaleek\\appdata\\local\\programs\\python\\python39\\lib\\site-packages (from aiohttp<4.0,>=3.6->dataprep) (2.0.4)\n",
      "Requirement already satisfied: PyYAML>=3.10 in c:\\users\\devpromaleek\\appdata\\local\\programs\\python\\python39\\lib\\site-packages (from bokeh<3,>=2->dataprep) (5.4.1)\n",
      "Requirement already satisfied: tornado>=5.1 in c:\\users\\devpromaleek\\appdata\\local\\programs\\python\\python39\\lib\\site-packages (from bokeh<3,>=2->dataprep) (6.1)\n",
      "Requirement already satisfied: pillow>=7.1.0 in c:\\users\\devpromaleek\\appdata\\local\\programs\\python\\python39\\lib\\site-packages (from bokeh<3,>=2->dataprep) (8.3.1)\n",
      "Requirement already satisfied: typing-extensions>=3.10.0 in c:\\users\\devpromaleek\\appdata\\local\\programs\\python\\python39\\lib\\site-packages (from bokeh<3,>=2->dataprep) (3.10.0.0)\n",
      "Requirement already satisfied: packaging>=16.8 in c:\\users\\devpromaleek\\appdata\\local\\programs\\python\\python39\\lib\\site-packages (from bokeh<3,>=2->dataprep) (21.3)\n",
      "Collecting cloudpickle>=1.1.1\n",
      "  Using cached cloudpickle-2.1.0-py3-none-any.whl (25 kB)\n",
      "Collecting fsspec>=0.6.0\n",
      "  Using cached fsspec-2022.5.0-py3-none-any.whl (140 kB)\n",
      "Requirement already satisfied: toolz>=0.8.2 in c:\\users\\devpromaleek\\appdata\\local\\programs\\python\\python39\\lib\\site-packages (from dask[array,dataframe,delayed]<2022.0,>=2021.11->dataprep) (0.11.2)\n",
      "Collecting partd>=0.3.10\n",
      "  Using cached partd-1.2.0-py3-none-any.whl (19 kB)\n",
      "Collecting click>=8.0\n",
      "  Using cached click-8.1.3-py3-none-any.whl (96 kB)\n",
      "Requirement already satisfied: Werkzeug>=2.0 in c:\\users\\devpromaleek\\appdata\\local\\programs\\python\\python39\\lib\\site-packages (from flask<3,>=2->dataprep) (2.0.1)\n",
      "Collecting itsdangerous>=2.0\n",
      "  Using cached itsdangerous-2.1.2-py3-none-any.whl (15 kB)\n",
      "Requirement already satisfied: importlib-metadata>=3.6.0 in c:\\users\\devpromaleek\\appdata\\local\\programs\\python\\python39\\lib\\site-packages (from flask<3,>=2->dataprep) (4.11.4)\n",
      "Requirement already satisfied: Six in c:\\users\\devpromaleek\\appdata\\local\\programs\\python\\python39\\lib\\site-packages (from flask_cors<4.0.0,>=3.0.10->dataprep) (1.15.0)\n",
      "Requirement already satisfied: nbformat>=4.2.0 in c:\\users\\devpromaleek\\appdata\\local\\programs\\python\\python39\\lib\\site-packages (from ipywidgets<8.0,>=7.5->dataprep) (5.4.0)\n",
      "Requirement already satisfied: ipykernel>=4.5.1 in c:\\users\\devpromaleek\\appdata\\local\\programs\\python\\python39\\lib\\site-packages (from ipywidgets<8.0,>=7.5->dataprep) (6.14.0)\n",
      "Requirement already satisfied: traitlets>=4.3.1 in c:\\users\\devpromaleek\\appdata\\local\\programs\\python\\python39\\lib\\site-packages (from ipywidgets<8.0,>=7.5->dataprep) (5.2.2.post1)\n",
      "Requirement already satisfied: widgetsnbextension~=3.6.0 in c:\\users\\devpromaleek\\appdata\\local\\programs\\python\\python39\\lib\\site-packages (from ipywidgets<8.0,>=7.5->dataprep) (3.6.0)\n",
      "Requirement already satisfied: jupyterlab-widgets>=1.0.0 in c:\\users\\devpromaleek\\appdata\\local\\programs\\python\\python39\\lib\\site-packages (from ipywidgets<8.0,>=7.5->dataprep) (1.1.0)\n",
      "Requirement already satisfied: ipython-genutils~=0.2.0 in c:\\users\\devpromaleek\\appdata\\local\\programs\\python\\python39\\lib\\site-packages (from ipywidgets<8.0,>=7.5->dataprep) (0.2.0)\n",
      "Requirement already satisfied: ipython>=4.0.0 in c:\\users\\devpromaleek\\appdata\\local\\programs\\python\\python39\\lib\\site-packages (from ipywidgets<8.0,>=7.5->dataprep) (8.4.0)\n",
      "Requirement already satisfied: MarkupSafe>=2.0 in c:\\users\\devpromaleek\\appdata\\local\\programs\\python\\python39\\lib\\site-packages (from jinja2<4,>=3->dataprep) (2.0.1)\n",
      "Requirement already satisfied: decorator in c:\\users\\devpromaleek\\appdata\\local\\programs\\python\\python39\\lib\\site-packages (from jsonpath-ng<2.0,>=1.5->dataprep) (5.1.1)\n",
      "Requirement already satisfied: ply in c:\\users\\devpromaleek\\appdata\\local\\programs\\python\\python39\\lib\\site-packages (from jsonpath-ng<2.0,>=1.5->dataprep) (3.11)\n",
      "Requirement already satisfied: joblib in c:\\users\\devpromaleek\\appdata\\local\\programs\\python\\python39\\lib\\site-packages (from nltk<4.0.0,>=3.6.7->dataprep) (1.0.1)\n",
      "Requirement already satisfied: python-dateutil>=2.7.3 in c:\\users\\devpromaleek\\appdata\\local\\programs\\python\\python39\\lib\\site-packages (from pandas<2.0,>=1.1->dataprep) (2.8.2)\n",
      "Requirement already satisfied: pytz>=2017.3 in c:\\users\\devpromaleek\\appdata\\local\\programs\\python\\python39\\lib\\site-packages (from pandas<2.0,>=1.1->dataprep) (2021.1)\n",
      "Requirement already satisfied: setuptools in c:\\users\\devpromaleek\\appdata\\local\\programs\\python\\python39\\lib\\site-packages (from python-Levenshtein<0.13.0,>=0.12.2->dataprep) (49.2.1)\n",
      "Collecting greenlet!=0.4.17\n",
      "  Using cached greenlet-1.1.2-cp39-cp39-win_amd64.whl (101 kB)\n",
      "Requirement already satisfied: colorama in c:\\users\\devpromaleek\\appdata\\local\\programs\\python\\python39\\lib\\site-packages (from tqdm<5.0,>=4.48->dataprep) (0.4.4)\n",
      "Requirement already satisfied: asttokens<3.0.0,>=2.0.0 in c:\\users\\devpromaleek\\appdata\\local\\programs\\python\\python39\\lib\\site-packages (from varname<0.9.0,>=0.8.1->dataprep) (2.0.5)\n",
      "Requirement already satisfied: pure_eval<1.0.0 in c:\\users\\devpromaleek\\appdata\\local\\programs\\python\\python39\\lib\\site-packages (from varname<0.9.0,>=0.8.1->dataprep) (0.2.2)\n",
      "Requirement already satisfied: executing<0.9.0,>=0.8.3 in c:\\users\\devpromaleek\\appdata\\local\\programs\\python\\python39\\lib\\site-packages (from varname<0.9.0,>=0.8.1->dataprep) (0.8.3)\n",
      "Requirement already satisfied: matplotlib in c:\\users\\devpromaleek\\appdata\\local\\programs\\python\\python39\\lib\\site-packages (from wordcloud<2.0,>=1.8->dataprep) (3.4.2)\n",
      "Requirement already satisfied: zipp>=0.5 in c:\\users\\devpromaleek\\appdata\\local\\programs\\python\\python39\\lib\\site-packages (from importlib-metadata>=3.6.0->flask<3,>=2->dataprep) (3.8.0)\n",
      "Requirement already satisfied: matplotlib-inline>=0.1 in c:\\users\\devpromaleek\\appdata\\local\\programs\\python\\python39\\lib\\site-packages (from ipykernel>=4.5.1->ipywidgets<8.0,>=7.5->dataprep) (0.1.3)\n",
      "Requirement already satisfied: psutil in c:\\users\\devpromaleek\\appdata\\local\\programs\\python\\python39\\lib\\site-packages (from ipykernel>=4.5.1->ipywidgets<8.0,>=7.5->dataprep) (5.9.1)\n",
      "Requirement already satisfied: debugpy>=1.0 in c:\\users\\devpromaleek\\appdata\\local\\programs\\python\\python39\\lib\\site-packages (from ipykernel>=4.5.1->ipywidgets<8.0,>=7.5->dataprep) (1.6.0)\n",
      "Requirement already satisfied: jupyter-client>=6.1.12 in c:\\users\\devpromaleek\\appdata\\local\\programs\\python\\python39\\lib\\site-packages (from ipykernel>=4.5.1->ipywidgets<8.0,>=7.5->dataprep) (7.3.4)\n",
      "Requirement already satisfied: nest-asyncio in c:\\users\\devpromaleek\\appdata\\local\\programs\\python\\python39\\lib\\site-packages (from ipykernel>=4.5.1->ipywidgets<8.0,>=7.5->dataprep) (1.5.5)\n",
      "Requirement already satisfied: pickleshare in c:\\users\\devpromaleek\\appdata\\local\\programs\\python\\python39\\lib\\site-packages (from ipython>=4.0.0->ipywidgets<8.0,>=7.5->dataprep) (0.7.5)\n",
      "Requirement already satisfied: pygments>=2.4.0 in c:\\users\\devpromaleek\\appdata\\local\\programs\\python\\python39\\lib\\site-packages (from ipython>=4.0.0->ipywidgets<8.0,>=7.5->dataprep) (2.12.0)\n",
      "Requirement already satisfied: prompt-toolkit!=3.0.0,!=3.0.1,<3.1.0,>=2.0.0 in c:\\users\\devpromaleek\\appdata\\local\\programs\\python\\python39\\lib\\site-packages (from ipython>=4.0.0->ipywidgets<8.0,>=7.5->dataprep) (3.0.22)\n",
      "Requirement already satisfied: backcall in c:\\users\\devpromaleek\\appdata\\local\\programs\\python\\python39\\lib\\site-packages (from ipython>=4.0.0->ipywidgets<8.0,>=7.5->dataprep) (0.2.0)\n",
      "Requirement already satisfied: stack-data in c:\\users\\devpromaleek\\appdata\\local\\programs\\python\\python39\\lib\\site-packages (from ipython>=4.0.0->ipywidgets<8.0,>=7.5->dataprep) (0.2.0)\n",
      "Requirement already satisfied: jedi>=0.16 in c:\\users\\devpromaleek\\appdata\\local\\programs\\python\\python39\\lib\\site-packages (from ipython>=4.0.0->ipywidgets<8.0,>=7.5->dataprep) (0.18.1)\n",
      "Requirement already satisfied: jsonschema>=2.6 in c:\\users\\devpromaleek\\appdata\\local\\programs\\python\\python39\\lib\\site-packages (from nbformat>=4.2.0->ipywidgets<8.0,>=7.5->dataprep) (4.6.0)\n",
      "Requirement already satisfied: fastjsonschema in c:\\users\\devpromaleek\\appdata\\local\\programs\\python\\python39\\lib\\site-packages (from nbformat>=4.2.0->ipywidgets<8.0,>=7.5->dataprep) (2.15.3)\n",
      "Requirement already satisfied: jupyter-core in c:\\users\\devpromaleek\\appdata\\local\\programs\\python\\python39\\lib\\site-packages (from nbformat>=4.2.0->ipywidgets<8.0,>=7.5->dataprep) (4.10.0)\n",
      "Requirement already satisfied: pyparsing!=3.0.5,>=2.0.2 in c:\\users\\devpromaleek\\appdata\\local\\programs\\python\\python39\\lib\\site-packages (from packaging>=16.8->bokeh<3,>=2->dataprep) (2.4.7)\n",
      "Collecting locket\n",
      "  Using cached locket-1.0.0-py2.py3-none-any.whl (4.4 kB)\n",
      "Requirement already satisfied: notebook>=4.4.1 in c:\\users\\devpromaleek\\appdata\\local\\programs\\python\\python39\\lib\\site-packages (from widgetsnbextension~=3.6.0->ipywidgets<8.0,>=7.5->dataprep) (6.4.12)\n",
      "Requirement already satisfied: idna>=2.0 in c:\\users\\devpromaleek\\appdata\\local\\programs\\python\\python39\\lib\\site-packages (from yarl<2.0,>=1.0->aiohttp<4.0,>=3.6->dataprep) (2.10)\n",
      "Requirement already satisfied: cycler>=0.10 in c:\\users\\devpromaleek\\appdata\\local\\programs\\python\\python39\\lib\\site-packages (from matplotlib->wordcloud<2.0,>=1.8->dataprep) (0.10.0)\n",
      "Requirement already satisfied: kiwisolver>=1.0.1 in c:\\users\\devpromaleek\\appdata\\local\\programs\\python\\python39\\lib\\site-packages (from matplotlib->wordcloud<2.0,>=1.8->dataprep) (1.3.1)\n",
      "Requirement already satisfied: parso<0.9.0,>=0.8.0 in c:\\users\\devpromaleek\\appdata\\local\\programs\\python\\python39\\lib\\site-packages (from jedi>=0.16->ipython>=4.0.0->ipywidgets<8.0,>=7.5->dataprep) (0.8.3)\n",
      "Requirement already satisfied: pyrsistent!=0.17.0,!=0.17.1,!=0.17.2,>=0.14.0 in c:\\users\\devpromaleek\\appdata\\local\\programs\\python\\python39\\lib\\site-packages (from jsonschema>=2.6->nbformat>=4.2.0->ipywidgets<8.0,>=7.5->dataprep) (0.18.1)\n",
      "Requirement already satisfied: entrypoints in c:\\users\\devpromaleek\\appdata\\local\\programs\\python\\python39\\lib\\site-packages (from jupyter-client>=6.1.12->ipykernel>=4.5.1->ipywidgets<8.0,>=7.5->dataprep) (0.4)\n",
      "Requirement already satisfied: pyzmq>=23.0 in c:\\users\\devpromaleek\\appdata\\local\\programs\\python\\python39\\lib\\site-packages (from jupyter-client>=6.1.12->ipykernel>=4.5.1->ipywidgets<8.0,>=7.5->dataprep) (23.1.0)\n",
      "Requirement already satisfied: pywin32>=1.0 in c:\\users\\devpromaleek\\appdata\\local\\programs\\python\\python39\\lib\\site-packages (from jupyter-core->nbformat>=4.2.0->ipywidgets<8.0,>=7.5->dataprep) (304)\n",
      "Requirement already satisfied: nbconvert>=5 in c:\\users\\devpromaleek\\appdata\\local\\programs\\python\\python39\\lib\\site-packages (from notebook>=4.4.1->widgetsnbextension~=3.6.0->ipywidgets<8.0,>=7.5->dataprep) (6.5.0)\n",
      "Requirement already satisfied: prometheus-client in c:\\users\\devpromaleek\\appdata\\local\\programs\\python\\python39\\lib\\site-packages (from notebook>=4.4.1->widgetsnbextension~=3.6.0->ipywidgets<8.0,>=7.5->dataprep) (0.14.1)\n",
      "Requirement already satisfied: argon2-cffi in c:\\users\\devpromaleek\\appdata\\local\\programs\\python\\python39\\lib\\site-packages (from notebook>=4.4.1->widgetsnbextension~=3.6.0->ipywidgets<8.0,>=7.5->dataprep) (21.3.0)\n",
      "Requirement already satisfied: terminado>=0.8.3 in c:\\users\\devpromaleek\\appdata\\local\\programs\\python\\python39\\lib\\site-packages (from notebook>=4.4.1->widgetsnbextension~=3.6.0->ipywidgets<8.0,>=7.5->dataprep) (0.15.0)\n",
      "Requirement already satisfied: Send2Trash>=1.8.0 in c:\\users\\devpromaleek\\appdata\\local\\programs\\python\\python39\\lib\\site-packages (from notebook>=4.4.1->widgetsnbextension~=3.6.0->ipywidgets<8.0,>=7.5->dataprep) (1.8.0)\n",
      "Requirement already satisfied: wcwidth in c:\\users\\devpromaleek\\appdata\\local\\programs\\python\\python39\\lib\\site-packages (from prompt-toolkit!=3.0.0,!=3.0.1,<3.1.0,>=2.0.0->ipython>=4.0.0->ipywidgets<8.0,>=7.5->dataprep) (0.2.5)\n",
      "Requirement already satisfied: bleach in c:\\users\\devpromaleek\\appdata\\local\\programs\\python\\python39\\lib\\site-packages (from nbconvert>=5->notebook>=4.4.1->widgetsnbextension~=3.6.0->ipywidgets<8.0,>=7.5->dataprep) (5.0.0)\n",
      "Requirement already satisfied: pandocfilters>=1.4.1 in c:\\users\\devpromaleek\\appdata\\local\\programs\\python\\python39\\lib\\site-packages (from nbconvert>=5->notebook>=4.4.1->widgetsnbextension~=3.6.0->ipywidgets<8.0,>=7.5->dataprep) (1.5.0)\n",
      "Requirement already satisfied: nbclient>=0.5.0 in c:\\users\\devpromaleek\\appdata\\local\\programs\\python\\python39\\lib\\site-packages (from nbconvert>=5->notebook>=4.4.1->widgetsnbextension~=3.6.0->ipywidgets<8.0,>=7.5->dataprep) (0.6.4)\n",
      "Requirement already satisfied: defusedxml in c:\\users\\devpromaleek\\appdata\\local\\programs\\python\\python39\\lib\\site-packages (from nbconvert>=5->notebook>=4.4.1->widgetsnbextension~=3.6.0->ipywidgets<8.0,>=7.5->dataprep) (0.7.1)\n",
      "Requirement already satisfied: mistune<2,>=0.8.1 in c:\\users\\devpromaleek\\appdata\\local\\programs\\python\\python39\\lib\\site-packages (from nbconvert>=5->notebook>=4.4.1->widgetsnbextension~=3.6.0->ipywidgets<8.0,>=7.5->dataprep) (0.8.4)\n",
      "Requirement already satisfied: jupyterlab-pygments in c:\\users\\devpromaleek\\appdata\\local\\programs\\python\\python39\\lib\\site-packages (from nbconvert>=5->notebook>=4.4.1->widgetsnbextension~=3.6.0->ipywidgets<8.0,>=7.5->dataprep) (0.2.2)\n",
      "Requirement already satisfied: tinycss2 in c:\\users\\devpromaleek\\appdata\\local\\programs\\python\\python39\\lib\\site-packages (from nbconvert>=5->notebook>=4.4.1->widgetsnbextension~=3.6.0->ipywidgets<8.0,>=7.5->dataprep) (1.1.1)\n",
      "Requirement already satisfied: beautifulsoup4 in c:\\users\\devpromaleek\\appdata\\local\\programs\\python\\python39\\lib\\site-packages (from nbconvert>=5->notebook>=4.4.1->widgetsnbextension~=3.6.0->ipywidgets<8.0,>=7.5->dataprep) (4.11.1)\n",
      "Requirement already satisfied: pywinpty>=1.1.0 in c:\\users\\devpromaleek\\appdata\\local\\programs\\python\\python39\\lib\\site-packages (from terminado>=0.8.3->notebook>=4.4.1->widgetsnbextension~=3.6.0->ipywidgets<8.0,>=7.5->dataprep) (2.0.5)\n",
      "Requirement already satisfied: argon2-cffi-bindings in c:\\users\\devpromaleek\\appdata\\local\\programs\\python\\python39\\lib\\site-packages (from argon2-cffi->notebook>=4.4.1->widgetsnbextension~=3.6.0->ipywidgets<8.0,>=7.5->dataprep) (21.2.0)\n",
      "Requirement already satisfied: cffi>=1.0.1 in c:\\users\\devpromaleek\\appdata\\local\\programs\\python\\python39\\lib\\site-packages (from argon2-cffi-bindings->argon2-cffi->notebook>=4.4.1->widgetsnbextension~=3.6.0->ipywidgets<8.0,>=7.5->dataprep) (1.15.0)\n",
      "Requirement already satisfied: soupsieve>1.2 in c:\\users\\devpromaleek\\appdata\\local\\programs\\python\\python39\\lib\\site-packages (from beautifulsoup4->nbconvert>=5->notebook>=4.4.1->widgetsnbextension~=3.6.0->ipywidgets<8.0,>=7.5->dataprep) (2.3.2.post1)\n",
      "Requirement already satisfied: webencodings in c:\\users\\devpromaleek\\appdata\\local\\programs\\python\\python39\\lib\\site-packages (from bleach->nbconvert>=5->notebook>=4.4.1->widgetsnbextension~=3.6.0->ipywidgets<8.0,>=7.5->dataprep) (0.5.1)\n",
      "Requirement already satisfied: pycparser in c:\\users\\devpromaleek\\appdata\\local\\programs\\python\\python39\\lib\\site-packages (from cffi>=1.0.1->argon2-cffi-bindings->argon2-cffi->notebook>=4.4.1->widgetsnbextension~=3.6.0->ipywidgets<8.0,>=7.5->dataprep) (2.21)\n",
      "Building wheels for collected packages: python-Levenshtein, wordcloud\n",
      "  Building wheel for python-Levenshtein (setup.py): started\n",
      "  Building wheel for python-Levenshtein (setup.py): finished with status 'error'\n",
      "  Running setup.py clean for python-Levenshtein\n",
      "  Building wheel for wordcloud (setup.py): started\n",
      "  Building wheel for wordcloud (setup.py): finished with status 'error'\n",
      "  Running setup.py clean for wordcloud\n",
      "Failed to build python-Levenshtein wordcloud\n",
      "Installing collected packages: python-Levenshtein, pystache, pydantic, numpy, multidict, locket, jsonpath-ng, itsdangerous, greenlet, fsspec, frozenlist, cloudpickle, click, async-timeout, yarl, varname, sqlalchemy, partd, nltk, flask, bokeh, aiosignal, wordcloud, flask_cors, dask, aiohttp, dataprep\n",
      "  Running setup.py install for python-Levenshtein: started\n",
      "  Running setup.py install for python-Levenshtein: finished with status 'error'\n",
      "Note: you may need to restart the kernel to use updated packages.\n"
     ]
    },
    {
     "name": "stderr",
     "output_type": "stream",
     "text": [
      "  error: subprocess-exited-with-error\n",
      "  \n",
      "  × python setup.py bdist_wheel did not run successfully.\n",
      "  │ exit code: 1\n",
      "  ╰─> [27 lines of output]\n",
      "      running bdist_wheel\n",
      "      running build\n",
      "      running build_py\n",
      "      creating build\n",
      "      creating build\\lib.win-amd64-3.9\n",
      "      creating build\\lib.win-amd64-3.9\\Levenshtein\n",
      "      copying Levenshtein\\StringMatcher.py -> build\\lib.win-amd64-3.9\\Levenshtein\n",
      "      copying Levenshtein\\__init__.py -> build\\lib.win-amd64-3.9\\Levenshtein\n",
      "      running egg_info\n",
      "      writing python_Levenshtein.egg-info\\PKG-INFO\n",
      "      writing dependency_links to python_Levenshtein.egg-info\\dependency_links.txt\n",
      "      writing entry points to python_Levenshtein.egg-info\\entry_points.txt\n",
      "      writing namespace_packages to python_Levenshtein.egg-info\\namespace_packages.txt\n",
      "      writing requirements to python_Levenshtein.egg-info\\requires.txt\n",
      "      writing top-level names to python_Levenshtein.egg-info\\top_level.txt\n",
      "      reading manifest file 'python_Levenshtein.egg-info\\SOURCES.txt'\n",
      "      reading manifest template 'MANIFEST.in'\n",
      "      warning: no previously-included files matching '*pyc' found anywhere in distribution\n",
      "      warning: no previously-included files matching '*so' found anywhere in distribution\n",
      "      warning: no previously-included files matching '.project' found anywhere in distribution\n",
      "      warning: no previously-included files matching '.pydevproject' found anywhere in distribution\n",
      "      writing manifest file 'python_Levenshtein.egg-info\\SOURCES.txt'\n",
      "      copying Levenshtein\\_levenshtein.c -> build\\lib.win-amd64-3.9\\Levenshtein\n",
      "      copying Levenshtein\\_levenshtein.h -> build\\lib.win-amd64-3.9\\Levenshtein\n",
      "      running build_ext\n",
      "      building 'Levenshtein._levenshtein' extension\n",
      "      error: Microsoft Visual C++ 14.0 is required. Get it with \"Build Tools for Visual Studio\": https://visualstudio.microsoft.com/downloads/\n",
      "      [end of output]\n",
      "  \n",
      "  note: This error originates from a subprocess, and is likely not a problem with pip.\n",
      "  ERROR: Failed building wheel for python-Levenshtein\n",
      "  error: subprocess-exited-with-error\n",
      "  \n",
      "  × python setup.py bdist_wheel did not run successfully.\n",
      "  │ exit code: 1\n",
      "  ╰─> [20 lines of output]\n",
      "      running bdist_wheel\n",
      "      running build\n",
      "      running build_py\n",
      "      creating build\n",
      "      creating build\\lib.win-amd64-3.9\n",
      "      creating build\\lib.win-amd64-3.9\\wordcloud\n",
      "      copying wordcloud\\color_from_image.py -> build\\lib.win-amd64-3.9\\wordcloud\n",
      "      copying wordcloud\\tokenization.py -> build\\lib.win-amd64-3.9\\wordcloud\n",
      "      copying wordcloud\\wordcloud.py -> build\\lib.win-amd64-3.9\\wordcloud\n",
      "      copying wordcloud\\wordcloud_cli.py -> build\\lib.win-amd64-3.9\\wordcloud\n",
      "      copying wordcloud\\_version.py -> build\\lib.win-amd64-3.9\\wordcloud\n",
      "      copying wordcloud\\__init__.py -> build\\lib.win-amd64-3.9\\wordcloud\n",
      "      copying wordcloud\\__main__.py -> build\\lib.win-amd64-3.9\\wordcloud\n",
      "      copying wordcloud\\stopwords -> build\\lib.win-amd64-3.9\\wordcloud\n",
      "      copying wordcloud\\DroidSansMono.ttf -> build\\lib.win-amd64-3.9\\wordcloud\n",
      "      UPDATING build\\lib.win-amd64-3.9\\wordcloud/_version.py\n",
      "      set build\\lib.win-amd64-3.9\\wordcloud/_version.py to '1.8.1'\n",
      "      running build_ext\n",
      "      building 'wordcloud.query_integral_image' extension\n",
      "      error: Microsoft Visual C++ 14.0 is required. Get it with \"Build Tools for Visual Studio\": https://visualstudio.microsoft.com/downloads/\n",
      "      [end of output]\n",
      "  \n",
      "  note: This error originates from a subprocess, and is likely not a problem with pip.\n",
      "  ERROR: Failed building wheel for wordcloud\n",
      "  error: subprocess-exited-with-error\n",
      "  \n",
      "  × Running setup.py install for python-Levenshtein did not run successfully.\n",
      "  │ exit code: 1\n",
      "  ╰─> [27 lines of output]\n",
      "      running install\n",
      "      running build\n",
      "      running build_py\n",
      "      creating build\n",
      "      creating build\\lib.win-amd64-3.9\n",
      "      creating build\\lib.win-amd64-3.9\\Levenshtein\n",
      "      copying Levenshtein\\StringMatcher.py -> build\\lib.win-amd64-3.9\\Levenshtein\n",
      "      copying Levenshtein\\__init__.py -> build\\lib.win-amd64-3.9\\Levenshtein\n",
      "      running egg_info\n",
      "      writing python_Levenshtein.egg-info\\PKG-INFO\n",
      "      writing dependency_links to python_Levenshtein.egg-info\\dependency_links.txt\n",
      "      writing entry points to python_Levenshtein.egg-info\\entry_points.txt\n",
      "      writing namespace_packages to python_Levenshtein.egg-info\\namespace_packages.txt\n",
      "      writing requirements to python_Levenshtein.egg-info\\requires.txt\n",
      "      writing top-level names to python_Levenshtein.egg-info\\top_level.txt\n",
      "      reading manifest file 'python_Levenshtein.egg-info\\SOURCES.txt'\n",
      "      reading manifest template 'MANIFEST.in'\n",
      "      warning: no previously-included files matching '*pyc' found anywhere in distribution\n",
      "      warning: no previously-included files matching '*so' found anywhere in distribution\n",
      "      warning: no previously-included files matching '.project' found anywhere in distribution\n",
      "      warning: no previously-included files matching '.pydevproject' found anywhere in distribution\n",
      "      writing manifest file 'python_Levenshtein.egg-info\\SOURCES.txt'\n",
      "      copying Levenshtein\\_levenshtein.c -> build\\lib.win-amd64-3.9\\Levenshtein\n",
      "      copying Levenshtein\\_levenshtein.h -> build\\lib.win-amd64-3.9\\Levenshtein\n",
      "      running build_ext\n",
      "      building 'Levenshtein._levenshtein' extension\n",
      "      error: Microsoft Visual C++ 14.0 is required. Get it with \"Build Tools for Visual Studio\": https://visualstudio.microsoft.com/downloads/\n",
      "      [end of output]\n",
      "  \n",
      "  note: This error originates from a subprocess, and is likely not a problem with pip.\n",
      "error: legacy-install-failure\n",
      "\n",
      "× Encountered error while trying to install package.\n",
      "╰─> python-Levenshtein\n",
      "\n",
      "note: This is an issue with the package mentioned above, not pip.\n",
      "hint: See above for output from the failure.\n"
     ]
    }
   ],
   "source": [
    "!pip install dataprep"
   ]
  },
  {
   "cell_type": "code",
   "execution_count": 5,
   "metadata": {
    "id": "hH6bdLcXZ-zB"
   },
   "outputs": [
    {
     "ename": "ModuleNotFoundError",
     "evalue": "No module named 'dataprep'",
     "output_type": "error",
     "traceback": [
      "\u001b[1;31m---------------------------------------------------------------------------\u001b[0m",
      "\u001b[1;31mModuleNotFoundError\u001b[0m                       Traceback (most recent call last)",
      "\u001b[1;32mc:\\Users\\devProMaleek\\ML WEB APP\\Lassa_Fever.ipynb Cell 5'\u001b[0m in \u001b[0;36m<cell line: 2>\u001b[1;34m()\u001b[0m\n\u001b[0;32m      <a href='vscode-notebook-cell:/c%3A/Users/devProMaleek/ML%20WEB%20APP/Lassa_Fever.ipynb#ch0000004?line=0'>1</a>\u001b[0m \u001b[39m# Data Preparation \u001b[39;00m\n\u001b[1;32m----> <a href='vscode-notebook-cell:/c%3A/Users/devProMaleek/ML%20WEB%20APP/Lassa_Fever.ipynb#ch0000004?line=1'>2</a>\u001b[0m \u001b[39mfrom\u001b[39;00m \u001b[39mdataprep\u001b[39;00m\u001b[39m.\u001b[39;00m\u001b[39meda\u001b[39;00m \u001b[39mimport\u001b[39;00m \u001b[39m*\u001b[39m\n\u001b[0;32m      <a href='vscode-notebook-cell:/c%3A/Users/devProMaleek/ML%20WEB%20APP/Lassa_Fever.ipynb#ch0000004?line=2'>3</a>\u001b[0m \u001b[39mfrom\u001b[39;00m \u001b[39mdataprep\u001b[39;00m\u001b[39m.\u001b[39;00m\u001b[39meda\u001b[39;00m\u001b[39m.\u001b[39;00m\u001b[39mmissing\u001b[39;00m \u001b[39mimport\u001b[39;00m plot_missing\n\u001b[0;32m      <a href='vscode-notebook-cell:/c%3A/Users/devProMaleek/ML%20WEB%20APP/Lassa_Fever.ipynb#ch0000004?line=3'>4</a>\u001b[0m \u001b[39mfrom\u001b[39;00m \u001b[39mdataprep\u001b[39;00m\u001b[39m.\u001b[39;00m\u001b[39meda\u001b[39;00m \u001b[39mimport\u001b[39;00m plot_correlation\n",
      "\u001b[1;31mModuleNotFoundError\u001b[0m: No module named 'dataprep'"
     ]
    }
   ],
   "source": [
    "# Data Preparation \n",
    "from dataprep.eda import *\n",
    "from dataprep.eda.missing import plot_missing\n",
    "from dataprep.eda import plot_correlation"
   ]
  },
  {
   "cell_type": "markdown",
   "metadata": {
    "id": "kzGwPUPIayP2"
   },
   "source": [
    "# Data Analysis"
   ]
  },
  {
   "cell_type": "code",
   "execution_count": null,
   "metadata": {
    "id": "bL3mY-IPa2Pt"
   },
   "outputs": [],
   "source": [
    "lassa_data = pd.read_csv('/Lassa Dataset.csv')\n",
    "lassa_data"
   ]
  },
  {
   "cell_type": "code",
   "execution_count": null,
   "metadata": {
    "id": "zOLbjFl9dn92"
   },
   "outputs": [],
   "source": [
    "lassa_data.info()"
   ]
  },
  {
   "cell_type": "code",
   "execution_count": null,
   "metadata": {
    "id": "dCKcNpB5eeYq"
   },
   "outputs": [],
   "source": [
    "lassa_data.describe(include='all')"
   ]
  },
  {
   "cell_type": "code",
   "execution_count": null,
   "metadata": {
    "id": "BSieSAnwfbVl"
   },
   "outputs": [],
   "source": [
    "lassa_data.columns"
   ]
  },
  {
   "cell_type": "markdown",
   "metadata": {
    "id": "1D7-hDCsgTlq"
   },
   "source": [
    "# Finding Missing Value"
   ]
  },
  {
   "cell_type": "code",
   "execution_count": null,
   "metadata": {
    "id": "14RA2CqHgZcu"
   },
   "outputs": [],
   "source": [
    "plot_missing(lassa_data)"
   ]
  },
  {
   "cell_type": "code",
   "execution_count": null,
   "metadata": {
    "id": "ahIejOHJhBIs"
   },
   "outputs": [],
   "source": [
    "# Create a table with data missing \n",
    "missing_values=lassa_data.isnull().sum() # Missing values\n",
    "\n",
    "percent_missing = lassa_data.isnull().sum()/lassa_data.shape[0]*100 # Missing value in %\n",
    "\n",
    "value = {\n",
    "    'missing_values ':missing_values,\n",
    "    'percent_missing %':percent_missing  \n",
    "}\n",
    "frame=pd.DataFrame(value)\n",
    "frame"
   ]
  },
  {
   "cell_type": "markdown",
   "metadata": {
    "id": "Y-aeQaJPhYh3"
   },
   "source": [
    "The dataset contains zero missing values"
   ]
  },
  {
   "cell_type": "code",
   "execution_count": null,
   "metadata": {
    "id": "mpelekN5eSCJ"
   },
   "outputs": [],
   "source": [
    "def msv_1(df, thresh = 20, color = 'black', edgecolor = 'black', height = 3, width = 15):\n",
    "    \n",
    "    plt.figure(figsize = (width, height))\n",
    "    percentage = (df.isnull().mean()) * 100\n",
    "    percentage.sort_values(ascending = False).plot.bar(color = color, edgecolor = edgecolor)\n",
    "    plt.axhline(y = thresh, color = 'r', linestyle = '-')\n",
    "    \n",
    "    plt.title('Missing values percentage per column', fontsize=20, weight='bold' )\n",
    "    \n",
    "    plt.text(len(df.isnull().sum()/len(df))/1.7, thresh+2.5, f'Columns with more than {thresh}% missing values', fontsize=12, color='crimson',\n",
    "         ha='left' ,va='top')\n",
    "    plt.text(len(df.isnull().sum()/len(df))/1.7, thresh - 0.5, f'Columns with less than {thresh}% missing values', fontsize=12, color='green',\n",
    "         ha='left' ,va='top')\n",
    "    plt.xlabel('Columns', size=15, weight='bold')\n",
    "    plt.ylabel('Missing values percentage')\n",
    "    plt.yticks(weight ='bold')\n",
    "    \n",
    "    return plt.show()\n",
    "msv_1(lassa_data, 20, color=sns.color_palette('Reds',15))"
   ]
  },
  {
   "cell_type": "markdown",
   "metadata": {
    "id": "E-SVn6ERiAOi"
   },
   "source": [
    "# Data Visualization"
   ]
  },
  {
   "cell_type": "markdown",
   "metadata": {
    "id": "eDV5hMhniWLH"
   },
   "source": [
    "LASSA FEVER (target)"
   ]
  },
  {
   "cell_type": "code",
   "execution_count": null,
   "metadata": {
    "id": "52osgOwXiQcs"
   },
   "outputs": [],
   "source": [
    "sns.countplot(x='Lassa Fever',data=lassa_data)"
   ]
  },
  {
   "cell_type": "code",
   "execution_count": null,
   "metadata": {
    "id": "fxS2-hvUks_2"
   },
   "outputs": [],
   "source": [
    "lassa_data[\"Lassa Fever\"].value_counts().plot.pie(explode=[0.1,0.1],autopct='%1.1f%%',shadow=True)\n",
    "plt.title('number of cases');"
   ]
  },
  {
   "cell_type": "markdown",
   "metadata": {
    "id": "ohqz3qX3lBrw"
   },
   "source": [
    "Breathing Problem"
   ]
  },
  {
   "cell_type": "code",
   "execution_count": null,
   "metadata": {
    "id": "PF7NEYFslKho"
   },
   "outputs": [],
   "source": [
    "sns.countplot(x='Breathing Problem',data=lassa_data)"
   ]
  },
  {
   "cell_type": "code",
   "execution_count": null,
   "metadata": {
    "id": "uwgfG2z6lalV"
   },
   "outputs": [],
   "source": [
    "sns.countplot(x='Breathing Problem',hue='Lassa Fever',data=lassa_data)"
   ]
  },
  {
   "cell_type": "markdown",
   "metadata": {
    "id": "Z5y8pm-nl1cw"
   },
   "source": [
    "Fever"
   ]
  },
  {
   "cell_type": "code",
   "execution_count": null,
   "metadata": {
    "id": "aY12_GfMl4aX"
   },
   "outputs": [],
   "source": [
    "sns.countplot(x='Fever',hue='Lassa Fever',data=lassa_data);"
   ]
  },
  {
   "cell_type": "markdown",
   "metadata": {
    "id": "q5D-dCxLmMKb"
   },
   "source": [
    "Dry Cough"
   ]
  },
  {
   "cell_type": "code",
   "execution_count": null,
   "metadata": {
    "id": "e_YQV8dFmOpw"
   },
   "outputs": [],
   "source": [
    "sns.countplot(x='Dry Cough',hue='Lassa Fever',data=lassa_data)"
   ]
  },
  {
   "cell_type": "markdown",
   "metadata": {
    "id": "8wkd_Yfkmiid"
   },
   "source": [
    "Sore Throat"
   ]
  },
  {
   "cell_type": "code",
   "execution_count": null,
   "metadata": {
    "id": "BN-LwRnHmktP"
   },
   "outputs": [],
   "source": [
    "sns.countplot(x='Sore throat',hue='Lassa Fever',data=lassa_data)"
   ]
  },
  {
   "cell_type": "markdown",
   "metadata": {
    "id": "niCZaF4iaYzf"
   },
   "source": [
    "Vomitting"
   ]
  },
  {
   "cell_type": "code",
   "execution_count": null,
   "metadata": {
    "id": "RcD4-NJQaceY"
   },
   "outputs": [],
   "source": [
    "sns.countplot(x='Vomitting',hue='Lassa Fever',data=lassa_data)"
   ]
  },
  {
   "cell_type": "markdown",
   "metadata": {
    "id": "QqO9P5iVpQkC"
   },
   "source": [
    "# Feature Transformation"
   ]
  },
  {
   "cell_type": "code",
   "execution_count": null,
   "metadata": {
    "id": "we_T-4HYpP7S"
   },
   "outputs": [],
   "source": [
    "from sklearn.preprocessing import LabelEncoder\n",
    "label_encoder=LabelEncoder()"
   ]
  },
  {
   "cell_type": "code",
   "execution_count": null,
   "metadata": {
    "id": "VG1S3geGpij8"
   },
   "outputs": [],
   "source": [
    "lassa_data['Breathing Problem']=label_encoder.fit_transform(lassa_data['Breathing Problem'])\n",
    "lassa_data['Fever']=label_encoder.fit_transform(lassa_data['Fever'])\n",
    "lassa_data['Dry Cough']=label_encoder.fit_transform(lassa_data['Dry Cough'])\n",
    "lassa_data['Sore throat']=label_encoder.fit_transform(lassa_data['Sore throat'])\n",
    "lassa_data['Running Nose']=label_encoder.fit_transform(lassa_data['Running Nose'])\n",
    "lassa_data['Chest Pain']=label_encoder.fit_transform(lassa_data['Chest Pain'])\n",
    "lassa_data['Chronic Lung Disease']=label_encoder.fit_transform(lassa_data['Chronic Lung Disease'])\n",
    "lassa_data['Headache']=label_encoder.fit_transform(lassa_data['Headache'])\n",
    "lassa_data['Heart Disease']=label_encoder.fit_transform(lassa_data['Heart Disease'])\n",
    "lassa_data['Diabetes']=label_encoder.fit_transform(lassa_data['Diabetes'])\n",
    "lassa_data['Hyper Tension']=label_encoder.fit_transform(lassa_data['Hyper Tension'])\n",
    "lassa_data['Fatigue ']=label_encoder.fit_transform(lassa_data['Fatigue '])\n",
    "lassa_data['Shock ']=label_encoder.fit_transform(lassa_data['Shock '])\n",
    "lassa_data['Diarrhoea']=label_encoder.fit_transform(lassa_data['Diarrhoea'])\n",
    "lassa_data['Vomitting']=label_encoder.fit_transform(lassa_data['Vomitting'])\n",
    "lassa_data['Hearing Loss']=label_encoder.fit_transform(lassa_data['Hearing Loss'])\n",
    "lassa_data['Organ Failure']=label_encoder.fit_transform(lassa_data['Organ Failure'])\n",
    "lassa_data['Hepatitis']=label_encoder.fit_transform(lassa_data['Hepatitis'])\n",
    "lassa_data['Seizures']=label_encoder.fit_transform(lassa_data['Seizures'])\n",
    "lassa_data['Blue Lips']=label_encoder.fit_transform(lassa_data['Blue Lips'])\n",
    "lassa_data['Lassa Fever']=label_encoder.fit_transform(lassa_data['Lassa Fever'])"
   ]
  },
  {
   "cell_type": "code",
   "execution_count": null,
   "metadata": {
    "id": "MBXe0L1ty_Wo"
   },
   "outputs": [],
   "source": [
    "lassa_data.head()"
   ]
  },
  {
   "cell_type": "code",
   "execution_count": null,
   "metadata": {
    "id": "mklRwAtJzOPc"
   },
   "outputs": [],
   "source": [
    "lassa_data.dtypes.value_counts()"
   ]
  },
  {
   "cell_type": "markdown",
   "metadata": {
    "id": "ADOgrXuZzW_C"
   },
   "source": [
    "# Info about the data after transformation "
   ]
  },
  {
   "cell_type": "code",
   "execution_count": null,
   "metadata": {
    "id": "4_WG-5O9ze30"
   },
   "outputs": [],
   "source": [
    "lassa_data.describe(include='all')"
   ]
  },
  {
   "cell_type": "code",
   "execution_count": null,
   "metadata": {
    "id": "RfqIIheUzzpe"
   },
   "outputs": [],
   "source": [
    "lassa_data.hist(figsize=(20,15));"
   ]
  },
  {
   "cell_type": "markdown",
   "metadata": {
    "id": "3TdOy6-F0NVT"
   },
   "source": [
    "# Correlation Between Features"
   ]
  },
  {
   "cell_type": "code",
   "execution_count": null,
   "metadata": {
    "id": "BI_KvSvP0TfN"
   },
   "outputs": [],
   "source": [
    "plot_correlation(lassa_data)"
   ]
  },
  {
   "cell_type": "code",
   "execution_count": null,
   "metadata": {
    "id": "SxD4k_Wv0vY6"
   },
   "outputs": [],
   "source": [
    "corr=lassa_data.corr()\n",
    "corr.style.background_gradient(cmap='coolwarm',axis=None)"
   ]
  },
  {
   "cell_type": "markdown",
   "metadata": {
    "id": "s8NJPyUU2Y8t"
   },
   "source": [
    "# Feature Selection"
   ]
  },
  {
   "cell_type": "markdown",
   "metadata": {
    "id": "p2IqhBBV5nD0"
   },
   "source": [
    "**Feature that we will delete:**\n",
    "Seizures / Blue Lips /  Hepatitis / Organ Failure / Shock / Heart Disease / Chronic Lung Disease"
   ]
  },
  {
   "cell_type": "code",
   "execution_count": null,
   "metadata": {
    "id": "w4CSHoId2dfU"
   },
   "outputs": [],
   "source": [
    "# Feature Scaling.\n",
    "lassa_data=lassa_data.drop('Chronic Lung Disease',axis=1)\n",
    "lassa_data=lassa_data.drop('Heart Disease',axis=1)\n",
    "lassa_data=lassa_data.drop('Seizures',axis=1)\n",
    "lassa_data=lassa_data.drop('Blue Lips',axis=1)\n",
    "lassa_data=lassa_data.drop('Organ Failure',axis=1)\n",
    "lassa_data=lassa_data.drop('Hepatitis',axis=1)\n",
    "lassa_data=lassa_data.drop('Shock ',axis=1)"
   ]
  },
  {
   "cell_type": "code",
   "execution_count": null,
   "metadata": {
    "id": "luEts8C_98lA"
   },
   "outputs": [],
   "source": [
    "corr=lassa_data.corr()\n",
    "corr.style.background_gradient(cmap='coolwarm',axis=None)"
   ]
  },
  {
   "cell_type": "markdown",
   "metadata": {
    "id": "_z16CEtu-QUd"
   },
   "source": [
    "# Machine Learning Algorithm"
   ]
  },
  {
   "cell_type": "code",
   "execution_count": null,
   "metadata": {
    "id": "HYqV6BLg-Xxo"
   },
   "outputs": [],
   "source": [
    "# Importing the libraries, Libtune to tune model, get different metric scores\n",
    "from sklearn.model_selection import train_test_split\n",
    "from sklearn import datasets, linear_model, metrics\n",
    "from sklearn.metrics import accuracy_score, confusion_matrix, roc_auc_score, ConfusionMatrixDisplay, precision_score, recall_score, f1_score, classification_report, roc_curve, plot_roc_curve, auc, precision_recall_curve, plot_precision_recall_curve, average_precision_score\n",
    "from sklearn.model_selection import cross_val_score\n",
    "from collections import Counter\n",
    "from sklearn.model_selection import GridSearchCV\n",
    "from sklearn.linear_model import LogisticRegression\n",
    "from sklearn.metrics import confusion_matrix\n",
    "from sklearn.ensemble import RandomForestRegressor\n",
    "from sklearn.ensemble import GradientBoostingRegressor\n",
    "from sklearn.ensemble import GradientBoostingClassifier\n",
    "from xgboost import XGBClassifier\n",
    "from sklearn.neighbors import KNeighborsClassifier\n",
    "from sklearn.ensemble import RandomForestClassifier\n",
    "from sklearn.ensemble import AdaBoostClassifier\n",
    "from sklearn.tree import DecisionTreeClassifier\n",
    "from sklearn.naive_bayes import GaussianNB\n",
    "from sklearn.svm import SVC\n",
    "from sklearn.metrics import confusion_matrix"
   ]
  },
  {
   "cell_type": "code",
   "execution_count": null,
   "metadata": {
    "id": "yIBjlv1W-gJw"
   },
   "outputs": [],
   "source": [
    "x = lassa_data.drop('Lassa Fever',axis=1)\n",
    "y = lassa_data['Lassa Fever']"
   ]
  },
  {
   "cell_type": "code",
   "execution_count": null,
   "metadata": {
    "id": "iRbeZ4gu-9gl"
   },
   "outputs": [],
   "source": [
    "# Splitting the Data-set into train and test set.\n",
    "x_train, x_test, y_train, y_test = train_test_split(x, y, test_size = 0.20)\n",
    "\n",
    "print(x_test)"
   ]
  },
  {
   "cell_type": "markdown",
   "metadata": {
    "id": "yVA_mGqKe6-w"
   },
   "source": [
    "# HyperParameter Tuning"
   ]
  },
  {
   "cell_type": "code",
   "execution_count": null,
   "metadata": {
    "id": "OSLhTrxee6Xn"
   },
   "outputs": [],
   "source": [
    "grid_models = [(LogisticRegression(),[{'C':[0.25,0.5,0.75,1],'random_state':[0]}]), \n",
    "               (GaussianNB(),[{'var_smoothing': [1e-09]}]), \n",
    "               (DecisionTreeClassifier(),[{'criterion':['gini','entropy'],'random_state':[0]}]), \n",
    "               (RandomForestClassifier(),[{'n_estimators':[100,150,200],'criterion':['gini','entropy'],'random_state':[0]}]),\n",
    "               (AdaBoostClassifier(),[{'n_estimators':[100,150,200],'learning_rate':[0.1, 0.5, 0.8, 1],'algorithm':['SAMME', 'SAMME.R'], 'random_state':[0]}]),\n",
    "               (GradientBoostingClassifier(),[{'n_estimators':[100,150,200],'criterion':['friedman_mse','squared_error'],'loss':['deviance','exponential'],'learning_rate':[0.1, 0.5, 0.8, 1],'random_state':[0]}]),\n",
    "               (XGBClassifier(), [{'learning_rate': [0.01, 0.05, 0.1], 'eval_metric': ['error']}])]"
   ]
  },
  {
   "cell_type": "code",
   "execution_count": null,
   "metadata": {
    "id": "qR8qGHNX23K2"
   },
   "outputs": [],
   "source": [
    "for i,j in grid_models:\n",
    "    grid = GridSearchCV(estimator=i,param_grid = j, scoring = 'accuracy',cv=2)\n",
    "    grid.fit(x_train, y_train)\n",
    "    best_accuracy = grid.best_score_\n",
    "    best_param = grid.best_params_\n",
    "    print('{}:\\nBest Accuracy : {:.2f}%'.format(i,best_accuracy*100))\n",
    "    print('Best Parameters : ',best_param)\n",
    "    print('')\n",
    "    print('----------------')\n",
    "    print('')"
   ]
  },
  {
   "cell_type": "markdown",
   "metadata": {
    "id": "EQDpV20P_CV8"
   },
   "source": [
    "# Logistic Regression"
   ]
  },
  {
   "cell_type": "code",
   "execution_count": null,
   "metadata": {
    "id": "hq6QWsX-_Ovq"
   },
   "outputs": [],
   "source": [
    "accuracies = {}\n",
    "# Fitting Logistic Regression into training set.\n",
    "model = LogisticRegression(random_state=0, C=0.25)\n",
    "model.fit(x_train, y_train)\n",
    "\n",
    "# Predicting test sets results.\n",
    "y_pred = model.predict(x_test)\n",
    "\n",
    "# Score/Accuracy\n",
    "accuracy_logreg = model.score(x_test, y_test)*100\n",
    "\n",
    "# Confusion Matrix\n",
    "cm = confusion_matrix(y_test, y_pred)\n",
    "\n",
    "# Checking the probability of the test sets.\n",
    "y_prob = model.predict_proba(x_test)[:,1]\n",
    "\n",
    "# Print the Accuracies\n",
    "print(classification_report(y_test, y_pred))\n",
    "print('----------------')\n",
    "print(f'ROC AUC score: {roc_auc_score(y_test, y_prob)}')\n",
    "print('----------------')\n",
    "print('Accuracy Score: ',accuracy_score(y_test, y_pred))\n",
    "print('----------------')\n",
    "print('Accuracy in Percentage: ',accuracy_logreg)\n",
    "\n",
    "# Visualizing Confusion Matrix\n",
    "plt.figure(figsize = (6, 6))\n",
    "print('----------------')\n",
    "sns.heatmap(cm, cmap = 'Blues', annot = True, fmt = 'd', linewidths = 5, cbar = False, annot_kws = {'fontsize': 15}, \n",
    "            yticklabels = ['Negative', 'Positive'], xticklabels = ['Predicted Negative', 'Predicted Positive'])\n",
    "plt.yticks(rotation = 0)\n",
    "print(' ')\n",
    "plt.show()\n",
    "\n",
    "#accuracy\n",
    "acc = accuracy_score(y_test, y_pred)*100\n",
    "accuracies['Logistic Regression'] = acc\n",
    "\n",
    "# Roc AUC Curve\n",
    "false_positive_rate, true_positive_rate, thresholds = roc_curve(y_test, y_prob)\n",
    "roc_auc = auc(false_positive_rate, true_positive_rate)\n",
    "\n",
    "sns.set_theme(style = 'white')\n",
    "plt.figure(figsize = (6, 6))\n",
    "plt.plot(false_positive_rate,true_positive_rate, color = '#b01717', label = 'AUC = %0.3f' % roc_auc)\n",
    "plt.legend(loc = 'lower right')\n",
    "plt.plot([0, 1], [0, 1], linestyle = '--', color = '#174ab0')\n",
    "plt.axis('tight')\n",
    "plt.ylabel('True Positive Rate')\n",
    "plt.xlabel('False Positive Rate')\n",
    "plt.title('ROC AUC Curve')\n",
    "plt.legend()\n",
    "print(' ')\n",
    "plt.show()\n",
    "\n",
    "#Precision Recall Curve\n",
    "plt.figure(figsize = (6, 6))\n",
    "average_precision = average_precision_score(y_test, y_prob)\n",
    "disp = plot_precision_recall_curve(model, x_test, y_test)\n",
    "plt.title('Precision-Recall Curve')\n",
    "print(' ')\n",
    "plt.show()"
   ]
  },
  {
   "cell_type": "markdown",
   "metadata": {
    "id": "JRSzU2XP5tl_"
   },
   "source": [
    "# Random Forest Classifier"
   ]
  },
  {
   "cell_type": "code",
   "execution_count": null,
   "metadata": {
    "id": "RUqEzx_q54Rj"
   },
   "outputs": [],
   "source": [
    "random_forest_classifier = RandomForestClassifier(n_estimators=150, criterion='entropy', random_state=0)\n",
    "random_forest_classifier.fit(x_train, y_train.ravel())\n",
    "\n",
    "# Predicting the test set results\n",
    "y_pred = random_forest_classifier.predict(x_test)\n",
    "\n",
    "# Score/Accuracy\n",
    "accuracy_ranforclass = random_forest_classifier.score(x_test, y_test)*100\n",
    "\n",
    "# Confusion Matrix\n",
    "cm = confusion_matrix(y_test, y_pred)\n",
    "\n",
    "# Checking the probability of the test sets.\n",
    "y_prob = random_forest_classifier.predict_proba(x_test)[:,1]\n",
    "\n",
    "# Print the Accuracies\n",
    "print(classification_report(y_test, y_pred))\n",
    "print('----------------')\n",
    "print(f'ROC AUC score: {roc_auc_score(y_test, y_prob)}')\n",
    "print('----------------')\n",
    "print('Accuracy Score: ',accuracy_score(y_test, y_pred))\n",
    "print('----------------')\n",
    "print('Accuracy in Percentage: ',accuracy_ranforclass)\n",
    "\n",
    "# Visualizing Confusion Matrix\n",
    "plt.figure(figsize = (6, 6))\n",
    "print('----------------')\n",
    "sns.heatmap(cm, cmap = 'Blues', annot = True, fmt = 'd', linewidths = 5, cbar = False, annot_kws = {'fontsize': 15}, \n",
    "            yticklabels = ['Negative', 'Positive'], xticklabels = ['Predicted Negative', 'Predicted Positive'])\n",
    "plt.yticks(rotation = 0)\n",
    "print(' ')\n",
    "plt.show()\n",
    "\n",
    "#accuracy\n",
    "acc = accuracy_score(y_test, y_pred)*100\n",
    "accuracies['Random Forest'] = acc\n",
    "\n",
    "# Roc AUC Curve\n",
    "false_positive_rate, true_positive_rate, thresholds = roc_curve(y_test, y_prob)\n",
    "roc_auc = auc(false_positive_rate, true_positive_rate)\n",
    "\n",
    "sns.set_theme(style = 'white')\n",
    "plt.figure(figsize = (6, 6))\n",
    "plt.plot(false_positive_rate,true_positive_rate, color = '#b01717', label = 'AUC = %0.3f' % roc_auc)\n",
    "plt.legend(loc = 'lower right')\n",
    "plt.plot([0, 1], [0, 1], linestyle = '--', color = '#174ab0')\n",
    "plt.axis('tight')\n",
    "plt.ylabel('True Positive Rate')\n",
    "plt.xlabel('False Positive Rate')\n",
    "plt.title('ROC AUC Curve')\n",
    "plt.legend()\n",
    "print(' ')\n",
    "plt.show()\n",
    "\n",
    "#Precision Recall Curve\n",
    "plt.figure(figsize = (6, 6))\n",
    "average_precision = average_precision_score(y_test, y_prob)\n",
    "disp = plot_precision_recall_curve(random_forest_classifier, x_test, y_test)\n",
    "plt.title('Precision-Recall Curve')\n",
    "print(' ')\n",
    "plt.show()"
   ]
  },
  {
   "cell_type": "markdown",
   "metadata": {
    "id": "5SliaTcJ7VXp"
   },
   "source": [
    "# AdaBoost Classifier Algorithms"
   ]
  },
  {
   "cell_type": "code",
   "execution_count": null,
   "metadata": {
    "id": "enc_b1Gq7i9s"
   },
   "outputs": [],
   "source": [
    "classifier = AdaBoostClassifier(n_estimators=50, learning_rate=1)\n",
    "classifier.fit(x_train, y_train.ravel())\n",
    "\n",
    "# Predicting the test set results\n",
    "y_pred = classifier.predict(x_test)\n",
    "\n",
    "# Confusion matrix\n",
    "Accuracy = confusion_matrix(y_test, y_pred)\n",
    "\n",
    "# Score/Accuracy\n",
    "accuracy_adaboost = classifier.score(x_test, y_test)*100\n",
    "\n",
    "# Checking the probability of the test sets.\n",
    "y_prob = classifier.predict_proba(x_test)[:,1]\n",
    "\n",
    "# Print the Accuracies\n",
    "print(classification_report(y_test, y_pred))\n",
    "print('----------------')\n",
    "print(f'ROC AUC score: {roc_auc_score(y_test, y_prob)}')\n",
    "print('----------------')\n",
    "print('Accuracy Score: ',accuracy_score(y_test, y_pred))\n",
    "print('----------------')\n",
    "print('Accuracy in Percentage: ',accuracy_adaboost)\n",
    "\n",
    "# Visualizing Confusion Matrix\n",
    "plt.figure(figsize = (6, 6))\n",
    "print('----------------')\n",
    "sns.heatmap(cm, cmap = 'Blues', annot = True, fmt = 'd', linewidths = 5, cbar = False, annot_kws = {'fontsize': 15}, \n",
    "            yticklabels = ['Negative', 'Positive'], xticklabels = ['Predicted Negative', 'Predicted Positive'])\n",
    "plt.yticks(rotation = 0)\n",
    "print(' ')\n",
    "plt.show()\n",
    "\n",
    "#accuracy\n",
    "acc = accuracy_score(y_test, y_pred)*100\n",
    "accuracies['AdaBoost'] = acc\n",
    "\n",
    "# Roc AUC Curve\n",
    "false_positive_rate, true_positive_rate, thresholds = roc_curve(y_test, y_prob)\n",
    "roc_auc = auc(false_positive_rate, true_positive_rate)\n",
    "\n",
    "sns.set_theme(style = 'white')\n",
    "plt.figure(figsize = (6, 6))\n",
    "plt.plot(false_positive_rate,true_positive_rate, color = '#b01717', label = 'AUC = %0.3f' % roc_auc)\n",
    "plt.legend(loc = 'lower right')\n",
    "plt.plot([0, 1], [0, 1], linestyle = '--', color = '#174ab0')\n",
    "plt.axis('tight')\n",
    "plt.ylabel('True Positive Rate')\n",
    "plt.xlabel('False Positive Rate')\n",
    "plt.title('ROC AUC Curve')\n",
    "plt.legend()\n",
    "print(' ')\n",
    "plt.show()\n",
    "\n",
    "#Precision Recall Curve\n",
    "plt.figure(figsize = (6, 6))\n",
    "average_precision = average_precision_score(y_test, y_prob)\n",
    "disp = plot_precision_recall_curve(classifier, x_test, y_test)\n",
    "plt.title('Precision-Recall Curve')\n",
    "print(' ')\n",
    "plt.show()"
   ]
  },
  {
   "cell_type": "markdown",
   "metadata": {
    "id": "wRO51yykAP8L"
   },
   "source": [
    "# Gradient Boosting Classifier"
   ]
  },
  {
   "cell_type": "code",
   "execution_count": null,
   "metadata": {
    "id": "5XGqkoglAWD0"
   },
   "outputs": [],
   "source": [
    "# Fitting Gradient Boosting Regression into training set\n",
    "classifier = GradientBoostingClassifier(criterion='friedman_mse', learning_rate=0.8, loss='deviance', n_estimators=200, random_state=0)\n",
    "classifier.fit(x_train, y_train)\n",
    "\n",
    "# Score/Accuracy\n",
    "accuracy_gbc = classifier.score(x_test, y_test)*100\n",
    "\n",
    "# Confusion Matrix\n",
    "cm = confusion_matrix(y_test, y_pred)\n",
    "\n",
    "# Checking the probability of the test sets.\n",
    "y_prob = classifier.predict_proba(x_test)[:,1]\n",
    "\n",
    "# Print the Accuracies\n",
    "print(classification_report(y_test, y_pred))\n",
    "print('----------------')\n",
    "print(f'ROC AUC score: {roc_auc_score(y_test, y_prob)}')\n",
    "print('----------------')\n",
    "print('Accuracy Score: ',accuracy_score(y_test, y_pred))\n",
    "print('----------------')\n",
    "print('Accuracy in Percentage: ',accuracy_gbc)\n",
    "\n",
    "# Visualizing Confusion Matrix\n",
    "plt.figure(figsize = (6, 6))\n",
    "print('----------------')\n",
    "sns.heatmap(cm, cmap = 'Blues', annot = True, fmt = 'd', linewidths = 5, cbar = False, annot_kws = {'fontsize': 15}, \n",
    "            yticklabels = ['Negative', 'Positive'], xticklabels = ['Predicted Negative', 'Predicted Positive'])\n",
    "plt.yticks(rotation = 0)\n",
    "print(' ')\n",
    "plt.show()\n",
    "\n",
    "#accuracy\n",
    "acc = accuracy_score(y_test, y_pred)*100\n",
    "accuracies['Gradient Boosting'] = acc\n",
    "\n",
    "# Roc AUC Curve\n",
    "false_positive_rate, true_positive_rate, thresholds = roc_curve(y_test, y_prob)\n",
    "roc_auc = auc(false_positive_rate, true_positive_rate)\n",
    "\n",
    "sns.set_theme(style = 'white')\n",
    "plt.figure(figsize = (6, 6))\n",
    "plt.plot(false_positive_rate,true_positive_rate, color = '#b01717', label = 'AUC = %0.3f' % roc_auc)\n",
    "plt.legend(loc = 'lower right')\n",
    "plt.plot([0, 1], [0, 1], linestyle = '--', color = '#174ab0')\n",
    "plt.axis('tight')\n",
    "plt.ylabel('True Positive Rate')\n",
    "plt.xlabel('False Positive Rate')\n",
    "plt.title('ROC AUC Curve')\n",
    "plt.legend()\n",
    "print(' ')\n",
    "plt.show()\n",
    "\n",
    "#Precision Recall Curve\n",
    "plt.figure(figsize = (6, 6))\n",
    "average_precision = average_precision_score(y_test, y_prob)\n",
    "disp = plot_precision_recall_curve(classifier, x_test, y_test)\n",
    "plt.title('Precision-Recall Curve')\n",
    "print(' ')\n",
    "plt.show()"
   ]
  },
  {
   "cell_type": "markdown",
   "metadata": {
    "id": "l8lSBKjCH8wZ"
   },
   "source": [
    "# KNeighborsClassifier"
   ]
  },
  {
   "cell_type": "code",
   "execution_count": null,
   "metadata": {
    "id": "2ajoPeF_H--3"
   },
   "outputs": [],
   "source": [
    "# Fitting KNN into training set.\n",
    "classifier = KNeighborsClassifier(n_neighbors=5, p=2, metric='minkowski')\n",
    "classifier.fit(x_train, y_train.ravel())\n",
    "\n",
    "# Predicting the results.\n",
    "y_pred = classifier.predict(x_test)\n",
    "\n",
    "#Score/Accuracy\n",
    "accuracy_knn = classifier.score(x_test, y_test)*100\n",
    "\n",
    "# Confusion Matrix\n",
    "cm = confusion_matrix(y_test, y_pred)\n",
    "\n",
    "# Checking the probability of the test sets.\n",
    "y_prob = classifier.predict_proba(x_test)[:,1]\n",
    "\n",
    "# Print the Accuracies\n",
    "print(classification_report(y_test, y_pred))\n",
    "print('----------------')\n",
    "print(f'ROC AUC score: {roc_auc_score(y_test, y_prob)}')\n",
    "print('----------------')\n",
    "print('Accuracy Score: ',accuracy_score(y_test, y_pred))\n",
    "print('----------------')\n",
    "print('Accuracy in Percentage: ',accuracy_knn)\n",
    "\n",
    "# Visualizing Confusion Matrix\n",
    "plt.figure(figsize = (6, 6))\n",
    "print('----------------')\n",
    "sns.heatmap(cm, cmap = 'Blues', annot = True, fmt = 'd', linewidths = 5, cbar = False, annot_kws = {'fontsize': 15}, \n",
    "            yticklabels = ['Negative', 'Positive'], xticklabels = ['Predicted Negative', 'Predicted Positive'])\n",
    "plt.yticks(rotation = 0)\n",
    "print(' ')\n",
    "plt.show()\n",
    "\n",
    "#accuracy\n",
    "acc = accuracy_score(y_test, y_pred)*100\n",
    "accuracies['KNeighbors'] = acc\n",
    "\n",
    "# Roc AUC Curve\n",
    "false_positive_rate, true_positive_rate, thresholds = roc_curve(y_test, y_prob)\n",
    "roc_auc = auc(false_positive_rate, true_positive_rate)\n",
    "\n",
    "sns.set_theme(style = 'white')\n",
    "plt.figure(figsize = (6, 6))\n",
    "plt.plot(false_positive_rate,true_positive_rate, color = '#b01717', label = 'AUC = %0.3f' % roc_auc)\n",
    "plt.legend(loc = 'lower right')\n",
    "plt.plot([0, 1], [0, 1], linestyle = '--', color = '#174ab0')\n",
    "plt.axis('tight')\n",
    "plt.ylabel('True Positive Rate')\n",
    "plt.xlabel('False Positive Rate')\n",
    "plt.title('ROC AUC Curve')\n",
    "plt.legend()\n",
    "print(' ')\n",
    "plt.show()\n",
    "\n",
    "#Precision Recall Curve\n",
    "plt.figure(figsize = (6, 6))\n",
    "average_precision = average_precision_score(y_test, y_prob)\n",
    "disp = plot_precision_recall_curve(classifier, x_test, y_test)\n",
    "plt.title('Precision-Recall Curve')\n",
    "print(' ')\n",
    "plt.show()"
   ]
  },
  {
   "cell_type": "markdown",
   "metadata": {
    "id": "IazzOjq9JYed"
   },
   "source": [
    "# DecisionTreeClassifier"
   ]
  },
  {
   "cell_type": "code",
   "execution_count": null,
   "metadata": {
    "id": "ifx-0YBZJaz8"
   },
   "outputs": [],
   "source": [
    "# Fitting Decision tree to training set\n",
    "classifier = DecisionTreeClassifier(criterion='entropy', random_state=0)\n",
    "classifier.fit(x_train,y_train) \n",
    "\n",
    "# Predicting the result\n",
    "y_pred = classifier.predict(x_test)\n",
    "\n",
    "#Score/Accuracy\n",
    "accuracy_decisiontree = classifier.score(x_test, y_test)*100\n",
    "\n",
    "# Confusion Matrix\n",
    "cm = confusion_matrix(y_test, y_pred)\n",
    "\n",
    "# Checking the probability of the test sets.\n",
    "y_prob = classifier.predict_proba(x_test)[:,1]\n",
    "\n",
    "# Print the Accuracies\n",
    "print(classification_report(y_test, y_pred))\n",
    "print('----------------')\n",
    "print(f'ROC AUC score: {roc_auc_score(y_test, y_prob)}')\n",
    "print('----------------')\n",
    "print('Accuracy Score: ',accuracy_score(y_test, y_pred))\n",
    "print('----------------')\n",
    "print('Accuracy in Percentage: ',accuracy_decisiontree )\n",
    "\n",
    "# Visualizing Confusion Matrix\n",
    "plt.figure(figsize = (6, 6))\n",
    "print('----------------')\n",
    "sns.heatmap(cm, cmap = 'Blues', annot = True, fmt = 'd', linewidths = 5, cbar = False, annot_kws = {'fontsize': 15}, \n",
    "            yticklabels = ['Negative', 'Positive'], xticklabels = ['Predicted Negative', 'Predicted Positive'])\n",
    "plt.yticks(rotation = 0)\n",
    "print(' ')\n",
    "plt.show()\n",
    "\n",
    "#accuracy\n",
    "acc = accuracy_score(y_test, y_pred)*100\n",
    "accuracies['Decision Tree'] = acc\n",
    "\n",
    "# Roc AUC Curve\n",
    "false_positive_rate, true_positive_rate, thresholds = roc_curve(y_test, y_prob)\n",
    "roc_auc = auc(false_positive_rate, true_positive_rate)\n",
    "\n",
    "sns.set_theme(style = 'white')\n",
    "plt.figure(figsize = (6, 6))\n",
    "plt.plot(false_positive_rate,true_positive_rate, color = '#b01717', label = 'AUC = %0.3f' % roc_auc)\n",
    "plt.legend(loc = 'lower right')\n",
    "plt.plot([0, 1], [0, 1], linestyle = '--', color = '#174ab0')\n",
    "plt.axis('tight')\n",
    "plt.ylabel('True Positive Rate')\n",
    "plt.xlabel('False Positive Rate')\n",
    "plt.title('ROC AUC Curve')\n",
    "plt.legend()\n",
    "print(' ')\n",
    "plt.show()\n",
    "\n",
    "#Precision Recall Curve\n",
    "plt.figure(figsize = (6, 6))\n",
    "average_precision = average_precision_score(y_test, y_prob)\n",
    "disp = plot_precision_recall_curve(classifier, x_test, y_test)\n",
    "plt.title('Precision-Recall Curve')\n",
    "print(' ')\n",
    "plt.show()"
   ]
  },
  {
   "cell_type": "markdown",
   "metadata": {
    "id": "zMdlWHm6Ng4O"
   },
   "source": [
    "# Naive Bayes Algorithm (Gaussian Naive Bayes)"
   ]
  },
  {
   "cell_type": "code",
   "execution_count": null,
   "metadata": {
    "id": "XJMFizptNxJn"
   },
   "outputs": [],
   "source": [
    "# Fitting Naive Bayes to training set\n",
    "classifier = GaussianNB()\n",
    "classifier.fit(x_train,y_train.ravel())\n",
    "\n",
    "# Predicting Test set results\n",
    "y_pred = classifier.predict(x_test)\n",
    "\n",
    "#Score/Accuracy\n",
    "accuracy_gaussian= classifier.score(x_test, y_test)*100\n",
    "\n",
    "# Confusion Matrix\n",
    "cm = confusion_matrix(y_test, y_pred)\n",
    "\n",
    "# Checking the probability of the test sets.\n",
    "y_prob = classifier.predict_proba(x_test)[:,1]\n",
    "\n",
    "# Print the Accuracies\n",
    "print(classification_report(y_test, y_pred))\n",
    "print('----------------')\n",
    "print(f'ROC AUC score: {roc_auc_score(y_test, y_prob)}')\n",
    "print('----------------')\n",
    "print('Accuracy Score: ',accuracy_score(y_test, y_pred))\n",
    "print('----------------')\n",
    "print('Accuracy in Percentage: ',accuracy_gaussian)\n",
    "\n",
    "# Visualizing Confusion Matrix\n",
    "plt.figure(figsize = (6, 6))\n",
    "print('----------------')\n",
    "sns.heatmap(cm, cmap = 'Blues', annot = True, fmt = 'd', linewidths = 5, cbar = False, annot_kws = {'fontsize': 15}, \n",
    "            yticklabels = ['Negative', 'Positive'], xticklabels = ['Predicted Negative', 'Predicted Positive'])\n",
    "plt.yticks(rotation = 0)\n",
    "print(' ')\n",
    "plt.show()\n",
    "\n",
    "#accuracy\n",
    "acc = accuracy_score(y_test, y_pred)*100\n",
    "accuracies['Naive Bayes'] = acc\n",
    "\n",
    "# Roc AUC Curve\n",
    "false_positive_rate, true_positive_rate, thresholds = roc_curve(y_test, y_prob)\n",
    "roc_auc = auc(false_positive_rate, true_positive_rate)\n",
    "\n",
    "sns.set_theme(style = 'white')\n",
    "plt.figure(figsize = (6, 6))\n",
    "plt.plot(false_positive_rate,true_positive_rate, color = '#b01717', label = 'AUC = %0.3f' % roc_auc)\n",
    "plt.legend(loc = 'lower right')\n",
    "plt.plot([0, 1], [0, 1], linestyle = '--', color = '#174ab0')\n",
    "plt.axis('tight')\n",
    "plt.ylabel('True Positive Rate')\n",
    "plt.xlabel('False Positive Rate')\n",
    "plt.title('ROC AUC Curve')\n",
    "plt.legend()\n",
    "print(' ')\n",
    "plt.show()\n",
    "\n",
    "#Precision Recall Curve\n",
    "plt.figure(figsize = (6, 6))\n",
    "average_precision = average_precision_score(y_test, y_prob)\n",
    "disp = plot_precision_recall_curve(classifier, x_test, y_test)\n",
    "plt.title('Precision-Recall Curve')\n",
    "print(' ')\n",
    "plt.show()"
   ]
  },
  {
   "cell_type": "markdown",
   "metadata": {
    "id": "4eyYt8IJOmXD"
   },
   "source": [
    "# Support Vector Machine"
   ]
  },
  {
   "cell_type": "code",
   "execution_count": null,
   "metadata": {
    "id": "DMylepN3OvO5"
   },
   "outputs": [],
   "source": [
    "# Fitting SVM to training set.\n",
    "classifier = SVC(kernel='linear', random_state=0, probability=True) # Linear Kernel\n",
    "classifier.fit(x_train, y_train)\n",
    "\n",
    "# Predicting the result.\n",
    "y_pred = classifier.predict(x_test)\n",
    "\n",
    "#Score/Accuracy\n",
    "accuracy_svc=classifier.score(x_test, y_test)*100\n",
    "\n",
    "# Confusion Matrix\n",
    "cm = confusion_matrix(y_test, y_pred)\n",
    "\n",
    "# Checking the probability of the test sets.\n",
    "y_prob = classifier.predict_proba(x_test)[:,1]\n",
    "\n",
    "# Print the Accuracies\n",
    "print(classification_report(y_test, y_pred))\n",
    "print('----------------')\n",
    "print(f'ROC AUC score: {roc_auc_score(y_test, y_prob)}')\n",
    "print('----------------')\n",
    "print('Accuracy Score: ',accuracy_score(y_test, y_pred))\n",
    "print('----------------')\n",
    "print('Accuracy in Percentage: ',accuracy_svc)\n",
    "\n",
    "# Visualizing Confusion Matrix\n",
    "plt.figure(figsize = (6, 6))\n",
    "print('----------------')\n",
    "sns.heatmap(cm, cmap = 'Blues', annot = True, fmt = 'd', linewidths = 5, cbar = False, annot_kws = {'fontsize': 15}, \n",
    "            yticklabels = ['Negative', 'Positive'], xticklabels = ['Predicted Negative', 'Predicted Positive'])\n",
    "plt.yticks(rotation = 0)\n",
    "print(' ')\n",
    "plt.show()\n",
    "\n",
    "#accuracy\n",
    "acc = accuracy_score(y_test, y_pred)*100\n",
    "accuracies['Support Vector'] = acc\n",
    "\n",
    "# Roc AUC Curve\n",
    "false_positive_rate, true_positive_rate, thresholds = roc_curve(y_test, y_prob)\n",
    "roc_auc = auc(false_positive_rate, true_positive_rate)\n",
    "\n",
    "sns.set_theme(style = 'white')\n",
    "plt.figure(figsize = (6, 6))\n",
    "plt.plot(false_positive_rate,true_positive_rate, color = '#b01717', label = 'AUC = %0.3f' % roc_auc)\n",
    "plt.legend(loc = 'lower right')\n",
    "plt.plot([0, 1], [0, 1], linestyle = '--', color = '#174ab0')\n",
    "plt.axis('tight')\n",
    "plt.ylabel('True Positive Rate')\n",
    "plt.xlabel('False Positive Rate')\n",
    "plt.title('ROC AUC Curve')\n",
    "plt.legend()\n",
    "print(' ')\n",
    "plt.show()\n",
    "\n",
    "#Precision Recall Curve\n",
    "plt.figure(figsize = (6, 6))\n",
    "average_precision = average_precision_score(y_test, y_prob)\n",
    "disp = plot_precision_recall_curve(classifier, x_test, y_test)\n",
    "plt.title('Precision-Recall Curve')\n",
    "print(' ')\n",
    "plt.show()\n"
   ]
  },
  {
   "cell_type": "markdown",
   "metadata": {
    "id": "TDqIIqR9N2-x"
   },
   "source": [
    "# XGB Classifier"
   ]
  },
  {
   "cell_type": "code",
   "execution_count": null,
   "metadata": {
    "id": "gsqKi-UxN8i3"
   },
   "outputs": [],
   "source": [
    "classifier = XGBClassifier(eval_metric='error', learning_rate=0.1)\n",
    "classifier.fit(x_train, y_train.ravel())\n",
    "\n",
    "# Predicting the test set results\n",
    "y_pred = classifier.predict(x_test)\n",
    "\n",
    "# Score/Accuracy\n",
    "accuracy_xgb = classifier.score(x_test, y_test)*100\n",
    "\n",
    "# Confusion Matrix\n",
    "cm = confusion_matrix(y_test, y_pred)\n",
    "\n",
    "# Checking the probability of the test sets.\n",
    "y_prob = classifier.predict_proba(x_test)[:,1]\n",
    "\n",
    "# Print the Accuracies\n",
    "print(classification_report(y_test, y_pred))\n",
    "print('----------------')\n",
    "print(f'ROC AUC score: {roc_auc_score(y_test, y_prob)}')\n",
    "print('----------------')\n",
    "print('Accuracy Score: ',accuracy_score(y_test, y_pred))\n",
    "print('----------------')\n",
    "print('Accuracy in Percentage: ',accuracy_xgb)\n",
    "\n",
    "# Visualizing Confusion Matrix\n",
    "plt.figure(figsize = (6, 6))\n",
    "print('----------------')\n",
    "sns.heatmap(cm, cmap = 'Blues', annot = True, fmt = 'd', linewidths = 5, cbar = False, annot_kws = {'fontsize': 15}, \n",
    "            yticklabels = ['Negative', 'Positive'], xticklabels = ['Predicted Negative', 'Predicted Positive'])\n",
    "plt.yticks(rotation = 0)\n",
    "print(' ')\n",
    "plt.show()\n",
    "\n",
    "#accuracy\n",
    "acc = accuracy_score(y_test, y_pred)*100\n",
    "accuracies['XGB Classifier'] = acc\n",
    "\n",
    "# Roc AUC Curve\n",
    "false_positive_rate, true_positive_rate, thresholds = roc_curve(y_test, y_prob)\n",
    "roc_auc = auc(false_positive_rate, true_positive_rate)\n",
    "\n",
    "sns.set_theme(style = 'white')\n",
    "plt.figure(figsize = (6, 6))\n",
    "plt.plot(false_positive_rate,true_positive_rate, color = '#b01717', label = 'AUC = %0.3f' % roc_auc)\n",
    "plt.legend(loc = 'lower right')\n",
    "plt.plot([0, 1], [0, 1], linestyle = '--', color = '#174ab0')\n",
    "plt.axis('tight')\n",
    "plt.ylabel('True Positive Rate')\n",
    "plt.xlabel('False Positive Rate')\n",
    "plt.title('ROC AUC Curve')\n",
    "plt.legend()\n",
    "print(' ')\n",
    "plt.show()\n",
    "\n",
    "#Precision Recall Curve\n",
    "plt.figure(figsize = (6, 6))\n",
    "average_precision = average_precision_score(y_test, y_prob)\n",
    "disp = plot_precision_recall_curve(classifier, x_test, y_test)\n",
    "plt.title('Precision-Recall Curve')\n",
    "print(' ')\n",
    "plt.show()\n"
   ]
  },
  {
   "cell_type": "markdown",
   "metadata": {
    "id": "_uGj9dBvROEH"
   },
   "source": [
    "# Sorting the Models"
   ]
  },
  {
   "cell_type": "code",
   "execution_count": null,
   "metadata": {
    "id": "S__UqfANRMmx"
   },
   "outputs": [],
   "source": [
    "models = pd.DataFrame({\n",
    "    'Model': ['Support Vector Machines', 'KNN', 'Logistic Regression', 'Naive Bayes',   \n",
    "              'Decision Tree', 'Random Forest Classifier', 'Gradient Boosting Classifier', 'XGB Classifier', 'AdaBoost Classifier'],\n",
    "    'Score': [accuracy_svc, accuracy_knn, accuracy_logreg, accuracy_gaussian, accuracy_decisiontree, accuracy_ranforclass, accuracy_gbc, accuracy_xgb, accuracy_adaboost]})\n",
    "models.sort_values(by='Score', ascending=False)"
   ]
  },
  {
   "cell_type": "code",
   "execution_count": null,
   "metadata": {
    "id": "y6nse5Baw7f7"
   },
   "outputs": [],
   "source": [
    "colors = [\"purple\", \"green\", \"orange\", \"magenta\",\"#CFC60E\",\"#0FBBAE\",'#417D7A','#066163','#4D4C7D']\n",
    "\n",
    "sns.set_style(\"whitegrid\")\n",
    "plt.figure(figsize=(16,5))\n",
    "plt.yticks(np.arange(0,100,10))\n",
    "plt.ylabel(\"Accuracy %\")\n",
    "plt.xlabel(\"Algorithms\")\n",
    "sns.barplot(x=list(accuracies.keys()), y=list(accuracies.values()), palette=colors)\n",
    "plt.show()"
   ]
  },
  {
   "cell_type": "markdown",
   "metadata": {
    "id": "VdL67t8_MvMu"
   },
   "source": [
    "# Making a Predictive System"
   ]
  },
  {
   "cell_type": "code",
   "execution_count": null,
   "metadata": {
    "id": "GTcmfcwkNdaf"
   },
   "outputs": [],
   "source": [
    "input_data = (0, 1, 1, 1, 1, 1, 1, 1, 0, 0, 0, 1, 0)\n",
    "\n",
    "# Changing the input_data to numpy array\n",
    "input_data_as_numpy_array = np.asarray(input_data)\n",
    "\n",
    "# Reshape the array as we are predicting for one instance\n",
    "input_data_reshaped = input_data_as_numpy_array.reshape(1,-1)\n",
    "\n",
    "prediction = random_forest_classifier.predict(input_data_reshaped)\n",
    "print(prediction)\n",
    "\n",
    "if (prediction[0] == 0):\n",
    "  print('You are not diagnosed with Lassa Fever')\n",
    "else: \n",
    "  print('You are diagnosed with Lassa Fever')"
   ]
  },
  {
   "cell_type": "markdown",
   "metadata": {
    "id": "OekXvSIlTyEC"
   },
   "source": [
    "## Saving the trained model"
   ]
  },
  {
   "cell_type": "code",
   "execution_count": null,
   "metadata": {
    "id": "p9VCsS-AT-wa"
   },
   "outputs": [],
   "source": [
    "import pickle"
   ]
  },
  {
   "cell_type": "code",
   "execution_count": null,
   "metadata": {
    "id": "6TkK58TuUElp"
   },
   "outputs": [],
   "source": [
    "filename = 'trained_model.sav'\n",
    "pickle.dump(random_forest_classifier, open(filename, 'wb'))"
   ]
  },
  {
   "cell_type": "code",
   "execution_count": null,
   "metadata": {
    "id": "Dvb2zNY5XfPC"
   },
   "outputs": [],
   "source": [
    "# loading the saved model\n",
    "loaded_model = pickle.load(open('trained_model.sav', 'rb'))"
   ]
  },
  {
   "cell_type": "code",
   "execution_count": null,
   "metadata": {
    "id": "_QPqRs0IYBWo"
   },
   "outputs": [],
   "source": [
    "input_data = (0, 1, 1, 1, 1, 1, 1, 1, 0, 0, 0, 1, 0)\n",
    "\n",
    "# Changing the input_data to numpy array\n",
    "input_data_as_numpy_array = np.asarray(input_data)\n",
    "\n",
    "# Reshape the array as we are predicting for one instance\n",
    "input_data_reshaped = input_data_as_numpy_array.reshape(1,-1)\n",
    "\n",
    "prediction = loaded_model.predict(input_data_reshaped)\n",
    "print(prediction)\n",
    "\n",
    "if (prediction[0] == 0):\n",
    "  print('You are not diagnosed with Lassa Fever')\n",
    "else: \n",
    "  print('You are diagnosed with Lassa Fever')"
   ]
  }
 ],
 "metadata": {
  "colab": {
   "collapsed_sections": [
    "0V-SxXllaQHj"
   ],
   "name": "Lassa Fever.ipynb",
   "provenance": []
  },
  "kernelspec": {
   "display_name": "Python 3 (ipykernel)",
   "language": "python",
   "name": "python3"
  },
  "language_info": {
   "codemirror_mode": {
    "name": "ipython",
    "version": 3
   },
   "file_extension": ".py",
   "mimetype": "text/x-python",
   "name": "python",
   "nbconvert_exporter": "python",
   "pygments_lexer": "ipython3",
   "version": "3.9.12"
  },
  "vscode": {
   "interpreter": {
    "hash": "c47833a01481d27f007aececbac2601d80efdf67c78c4c1a67559a850cb57345"
   }
  }
 },
 "nbformat": 4,
 "nbformat_minor": 1
}
